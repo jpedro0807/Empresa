{
 "cells": [
  {
   "cell_type": "code",
   "execution_count": 2,
   "metadata": {},
   "outputs": [
    {
     "name": "stdout",
     "output_type": "stream",
     "text": [
      "{'2024-07-30 18:45:52.998364': {'pergunta1': 'a', 'pergunta2': 'b', 'pergunta3': 'c', 'pergunta4': 'd', 'pergunta5': 'e', 'pergunta6': 'f'}, '2024-07-30 18:52:21.576125': {'pergunta1': 'a', 'pergunta2': 'b', 'pergunta3': 'c', 'pergunta4': 'd', 'pergunta5': 'e', 'pergunta6': 'f'}, '2024-07-30 21:50:52.924255': {'pergunta1': '1', 'pergunta2': '2', 'pergunta3': '3', 'pergunta4': '4', 'pergunta5': '5', 'pergunta6': '6'}, 'NaT': {'pergunta1': 'q', 'pergunta2': 'w', 'pergunta3': 'e', 'pergunta4': 'r', 'pergunta5': 't', 'pergunta6': 'y'}, '2024-07-30 23:06:31.365691': {'pergunta1': '', 'pergunta2': 'a', 'pergunta3': 'a', 'pergunta4': 'a', 'pergunta5': 'a', 'pergunta6': 'a'}}\n"
     ]
    }
   ],
   "source": [
    "import json\n",
    "import numpy as np\n",
    "from os import path\n",
    "from datetime import datetime\n",
    "\n",
    "fileName = '/home/jpedro/empresa/respostasFormulario.json'\n",
    "\n",
    "\n",
    "def write_json(new_data, filename= fileName):\n",
    "    with open(filename,'r+') as file:\n",
    "          # First we load existing data into a dict.\n",
    "        file_data = json.load(file)\n",
    "        print(file_data)\n",
    "        # Join new_data with file_data inside emp_details\n",
    "        file_data.update(new_data)\n",
    "        # Sets file's current position at offset.\n",
    "        file.seek(0)\n",
    "        # convert back to json.\n",
    "        json.dump(file_data, file, indent = 4)\n",
    "\n",
    "\n",
    "\n",
    "\n",
    "pergunta1 = str(input('Pergunta:'))\n",
    "\n",
    "pergunta2 = str(input('Pergunta:'))\n",
    "\n",
    "pergunta3 = str(input('Pergunta:'))\n",
    "\n",
    "pergunta4 = str(input('Pergunta:'))\n",
    "\n",
    "pergunta5 = str(input('Pergunta:'))\n",
    "\n",
    "pergunta6 = str(input('Pergunta:'))\n",
    "\n",
    "date = str(datetime.now())\n",
    "date = date[0:16]\n",
    "\n",
    "dictTemp = {}\n",
    "\n",
    "dictTemp[date]= { \n",
    "    \"pergunta1\": pergunta1,\n",
    "    \"pergunta2\": pergunta2, \n",
    "    \"pergunta3\": pergunta3,\n",
    "    \"pergunta4\": pergunta4,\n",
    "    \"pergunta5\": pergunta5,\n",
    "    \"pergunta6\": pergunta6\n",
    "    }\n",
    "\n",
    "write_json(dictTemp)\n"
   ]
  },
  {
   "cell_type": "code",
   "execution_count": 1,
   "metadata": {},
   "outputs": [
    {
     "ename": "NameError",
     "evalue": "name 'pergunta2' is not defined",
     "output_type": "error",
     "traceback": [
      "\u001b[0;31m---------------------------------------------------------------------------\u001b[0m",
      "\u001b[0;31mNameError\u001b[0m                                 Traceback (most recent call last)",
      "Cell \u001b[0;32mIn[1], line 5\u001b[0m\n\u001b[1;32m      1\u001b[0m dictTemp \u001b[38;5;241m=\u001b[39m {}\n\u001b[1;32m      3\u001b[0m dictTemp[date]\u001b[38;5;241m=\u001b[39m { \n\u001b[1;32m      4\u001b[0m     \u001b[38;5;124m\"\u001b[39m\u001b[38;5;124mpergunta1\u001b[39m\u001b[38;5;124m\"\u001b[39m: \u001b[38;5;28minput\u001b[39m(\u001b[38;5;124m'\u001b[39m\u001b[38;5;124mteste:\u001b[39m\u001b[38;5;124m'\u001b[39m),\n\u001b[0;32m----> 5\u001b[0m     \u001b[38;5;124m\"\u001b[39m\u001b[38;5;124mpergunta2\u001b[39m\u001b[38;5;124m\"\u001b[39m: \u001b[43mpergunta2\u001b[49m, \n\u001b[1;32m      6\u001b[0m     \u001b[38;5;124m\"\u001b[39m\u001b[38;5;124mpergunta3\u001b[39m\u001b[38;5;124m\"\u001b[39m: pergunta3,\n\u001b[1;32m      7\u001b[0m     \u001b[38;5;124m\"\u001b[39m\u001b[38;5;124mpergunta4\u001b[39m\u001b[38;5;124m\"\u001b[39m: pergunta4,\n\u001b[1;32m      8\u001b[0m     \u001b[38;5;124m\"\u001b[39m\u001b[38;5;124mpergunta5\u001b[39m\u001b[38;5;124m\"\u001b[39m: pergunta5,\n\u001b[1;32m      9\u001b[0m     \u001b[38;5;124m\"\u001b[39m\u001b[38;5;124mpergunta6\u001b[39m\u001b[38;5;124m\"\u001b[39m: pergunta6\n\u001b[1;32m     10\u001b[0m     }\n",
      "\u001b[0;31mNameError\u001b[0m: name 'pergunta2' is not defined"
     ]
    }
   ],
   "source": [
    "\n",
    "pergunta1 = str(input('Pergunta:'))\n",
    "\n",
    "pergunta2 = str(input('Pergunta:'))\n",
    "\n",
    "pergunta3 = str(input('Pergunta:'))\n",
    "\n",
    "pergunta4 = str(input('Pergunta:'))\n",
    "\n",
    "pergunta5 = str(input('Pergunta:'))\n",
    "\n",
    "pergunta6 = str(input('Pergunta:'))\n",
    "\n",
    "\n",
    "date = str(datetime.now())\n",
    "date = date[0:16]\n",
    "\n",
    "dictTemp = {}\n",
    "\n",
    "dictTemp[date]= { \n",
    "    \"pergunta1\": pergunta1,\n",
    "    \"pergunta2\": pergunta2, \n",
    "    \"pergunta3\": pergunta3,\n",
    "    \"pergunta4\": pergunta4,\n",
    "    \"pergunta5\": pergunta5,\n",
    "    \"pergunta6\": pergunta6\n",
    "    }\n"
   ]
  }
 ],
 "metadata": {
  "kernelspec": {
   "display_name": "Python 3",
   "language": "python",
   "name": "python3"
  },
  "language_info": {
   "codemirror_mode": {
    "name": "ipython",
    "version": 3
   },
   "file_extension": ".py",
   "mimetype": "text/x-python",
   "name": "python",
   "nbconvert_exporter": "python",
   "pygments_lexer": "ipython3",
   "version": "3.12.3"
  }
 },
 "nbformat": 4,
 "nbformat_minor": 2
}
